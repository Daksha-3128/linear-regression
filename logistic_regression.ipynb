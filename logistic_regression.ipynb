{
  "nbformat": 4,
  "nbformat_minor": 0,
  "metadata": {
    "colab": {
      "provenance": []
    },
    "kernelspec": {
      "name": "python3",
      "display_name": "Python 3"
    },
    "language_info": {
      "name": "python"
    }
  },
  "cells": [
    {
      "cell_type": "markdown",
      "source": [
        "# Question 1: What is Logistic Regression, and how does it differ from Linear Regression?\n",
        "ANSWER-1\n",
        "Logistic Regression\n",
        "\n",
        "Logistic regression is a statistical model used when the dependent variable is categorical, most commonly binary (0/1). Instead of modeling the dependent variable directly as in linear regression, logistic regression models the log-odds of the probability of the event:\n",
        "\n",
        "\\ln \\left(\\frac{p}{1-p}\\right) = \\beta_0 + \\beta_1 x_1 + \\beta_2 x_2 + \\dots + \\beta_n x_n\n",
        "\n",
        "where:\n",
        "\n",
        " is the probability of the event occurring,\n",
        "\n",
        " is the odds of success.\n",
        "\n",
        "\n",
        "Through the logistic (sigmoid) function, predictions are restricted between 0 and 1:\n",
        "\n",
        "p = \\frac{1}{1 + e^{-(\\beta_0 + \\beta_1x_1 + \\dots + \\beta_nx_n)}}\n",
        "\n",
        "Estimation is done using Maximum Likelihood Estimation (MLE).\n",
        "\n",
        "\n",
        "Linear Regression\n",
        "\n",
        "Linear regression is a model used when the dependent variable is continuous. It assumes a linear relationship between the independent variables and the dependent variable:\n",
        "\n",
        "y = \\beta_0 + \\beta_1 x_1 + \\beta_2 x_2 + \\dots + \\beta_n x_n + \\epsilon\n",
        "\n",
        "where:\n",
        "\n",
        " is continuous,\n",
        "\n",
        " is the error term, assumed to be normally distributed with constant variance.\n",
        "\n",
        "\n",
        "Estimation is done using Ordinary Least Squares (OLS).\n",
        "\n",
        "\n",
        "\n",
        "\n"
      ],
      "metadata": {
        "id": "CBA2EDFKIyVB"
      }
    },
    {
      "cell_type": "markdown",
      "source": [
        "# Question 2: Explain the role of the Sigmoid function in Logistic Regression.\n",
        "ANSWER-2\n",
        "In Logistic Regression, the sigmoid function is used to map the linear combination of input features into a probability value between 0 and 1. Its mathematical form is\n",
        "\n",
        "\\sigma(z) = \\frac{1}{1 + e^{-z}}\n",
        "\n",
        "\n",
        "This ensures that the output of the model can be interpreted as a probability of the dependent variable belonging to a particular class. Values close to 0 indicate class 0, while values close to 1 indicate class 1. Thus, the sigmoid function enables logistic regression to perform binary classification.\n"
      ],
      "metadata": {
        "id": "VM_VYOFiKOhK"
      }
    },
    {
      "cell_type": "markdown",
      "source": [
        "#Question 3: What is Regularization in Logistic Regression and why is it needed?\n",
        "\n",
        "Answer:\n",
        "Regularization in Logistic Regression is a technique used to prevent overfitting by adding a penalty term to the loss function. It discourages the model from assigning very high weights to features. Common forms are L1 (Lasso) and L2 (Ridge) regularization. It is needed because it improves generalization, reduces model complexity, and ensures better performance on unseen data."
      ],
      "metadata": {
        "id": "zTarGlmzLAKW"
      }
    },
    {
      "cell_type": "markdown",
      "source": [
        "#Question 4: What are some common evaluation metrics for classification models, and why are they important?\n",
        "\n",
        "Answer:\n",
        "Common evaluation metrics include:\n",
        "\n",
        "Accuracy: Measures the overall correctness of predictions.\n",
        "\n",
        "Precision: Proportion of correctly predicted positives among all predicted positives.\n",
        "\n",
        "Recall (Sensitivity): Proportion of correctly predicted positives among all actual positives.\n",
        "\n",
        "F1-Score: Harmonic mean of precision and recall, balances both.\n",
        "\n",
        "ROC-AUC: Measures the model’s ability to distinguish between classes.\n",
        "\n",
        "\n",
        "These metrics are important because they provide insights into different aspects of model performance, especially when the dataset is imbalanced."
      ],
      "metadata": {
        "id": "ms0Lc-wILwMD"
      }
    },
    {
      "cell_type": "code",
      "source": [
        "# Question 5: Write a Python program that loads a CSV file into a Pandas DataFrame, splits into train/test sets, trains a Logistic Regression model, and prints its accuracy (Use Dataset from sklearn package)\n",
        "# Import required libraries\n",
        "import pandas as pd\n",
        "from sklearn.model_selection import train_test_split\n",
        "from sklearn.linear_model import LogisticRegression\n",
        "from sklearn.metrics import accuracy_score\n",
        "from sklearn.datasets import load_iris\n",
        "\n",
        "# Load dataset from sklearn and convert to DataFrame\n",
        "data = load_iris()\n",
        "df = pd.DataFrame(data.data, columns=data.feature_names)\n",
        "df['target'] = data.target\n",
        "\n",
        "# For binary classification, keep only two classes (0 and 1)\n",
        "df = df[df['target'] != 2]\n",
        "\n",
        "# Split features and target\n",
        "X = df.drop('target', axis=1)\n",
        "y = df['target']\n",
        "\n",
        "# Train-test split\n",
        "X_train, X_test, y_train, y_test = train_test_split(X, y, test_size=0.2, random_state=42)\n",
        "\n",
        "# Train Logistic Regression model\n",
        "model = LogisticRegression()\n",
        "model.fit(X_train, y_train)\n",
        "\n",
        "# Predictions\n",
        "y_pred = model.predict(X_test)\n",
        "\n",
        "# Accuracy\n",
        "accuracy = accuracy_score(y_test, y_pred)\n",
        "print(\"Accuracy:\", accuracy)"
      ],
      "metadata": {
        "colab": {
          "base_uri": "https://localhost:8080/"
        },
        "id": "HlQyRP0EM_Ec",
        "outputId": "c40f50f2-94d4-4442-dca3-1ff91718639e"
      },
      "execution_count": 1,
      "outputs": [
        {
          "output_type": "stream",
          "name": "stdout",
          "text": [
            "Accuracy: 1.0\n"
          ]
        }
      ]
    },
    {
      "cell_type": "code",
      "execution_count": 2,
      "metadata": {
        "colab": {
          "base_uri": "https://localhost:8080/"
        },
        "id": "Ng62xrE_IxSG",
        "outputId": "c36bc019-cf9c-4a2c-95ea-7a33a95eb010"
      },
      "outputs": [
        {
          "output_type": "stream",
          "name": "stdout",
          "text": [
            "Model Coefficients: [[-0.39345607  0.96251768 -2.37512436 -0.99874594]\n",
            " [ 0.50843279 -0.25482714 -0.21301129 -0.77574766]\n",
            " [-0.11497673 -0.70769055  2.58813565  1.7744936 ]]\n",
            "Intercept: [  9.00884295   1.86902164 -10.87786459]\n",
            "Accuracy: 1.0\n"
          ]
        }
      ],
      "source": [
        "# Question 6: Write a Python program to train a Logistic Regression model using L2 regularization (Ridge) and print the model coefficients and accuracy.\n",
        "# Import libraries\n",
        "import pandas as pd\n",
        "from sklearn.model_selection import train_test_split\n",
        "from sklearn.linear_model import LogisticRegression\n",
        "from sklearn.metrics import accuracy_score\n",
        "from sklearn.datasets import load_iris\n",
        "\n",
        "# Load dataset\n",
        "data = load_iris()\n",
        "X = pd.DataFrame(data.data, columns=data.feature_names)\n",
        "y = data.target\n",
        "\n",
        "# Split dataset\n",
        "X_train, X_test, y_train, y_test = train_test_split(X, y, test_size=0.2, random_state=42)\n",
        "\n",
        "# Logistic Regression with L2 Regularization (Ridge)\n",
        "model = LogisticRegression(penalty='l2', solver='lbfgs', max_iter=1000)\n",
        "model.fit(X_train, y_train)\n",
        "\n",
        "# Print coefficients\n",
        "print(\"Model Coefficients:\", model.coef_)\n",
        "print(\"Intercept:\", model.intercept_)\n",
        "\n",
        "# Predictions and Accuracy\n",
        "y_pred = model.predict(X_test)\n",
        "accuracy = accuracy_score(y_test, y_pred)\n",
        "print(\"Accuracy:\", accuracy)"
      ]
    },
    {
      "cell_type": "code",
      "source": [
        "# Question 7: Write a Python program to train a Logistic Regression model for multiciass classification using multi_class= ovr and print the classification report. (Use Dataset from sklearn package)\n",
        "# Import libraries\n",
        "import pandas as pd\n",
        "from sklearn.model_selection import train_test_split\n",
        "from sklearn.linear_model import LogisticRegression\n",
        "from sklearn.metrics import classification_report\n",
        "from sklearn.datasets import load_iris\n",
        "\n",
        "# Load dataset\n",
        "data = load_iris()\n",
        "X = pd.DataFrame(data.data, columns=data.feature_names)\n",
        "y = data.target\n",
        "\n",
        "# Split dataset\n",
        "X_train, X_test, y_train, y_test = train_test_split(X, y, test_size=0.2, random_state=42)\n",
        "\n",
        "# Logistic Regression for Multiclass with One-vs-Rest\n",
        "model = LogisticRegression(multi_class='ovr', solver='lbfgs', max_iter=1000)\n",
        "model.fit(X_train, y_train)\n",
        "\n",
        "# Predictions\n",
        "y_pred = model.predict(X_test)\n",
        "\n",
        "# Classification Report\n",
        "print(\"Classification Report:\\n\", classification_report(y_test, y_pred))"
      ],
      "metadata": {
        "colab": {
          "base_uri": "https://localhost:8080/"
        },
        "id": "yQEOu5GaN44d",
        "outputId": "8bbf2644-8fa2-4379-9815-1f06e1c0c77b"
      },
      "execution_count": 3,
      "outputs": [
        {
          "output_type": "stream",
          "name": "stdout",
          "text": [
            "Classification Report:\n",
            "               precision    recall  f1-score   support\n",
            "\n",
            "           0       1.00      1.00      1.00        10\n",
            "           1       1.00      0.89      0.94         9\n",
            "           2       0.92      1.00      0.96        11\n",
            "\n",
            "    accuracy                           0.97        30\n",
            "   macro avg       0.97      0.96      0.97        30\n",
            "weighted avg       0.97      0.97      0.97        30\n",
            "\n"
          ]
        },
        {
          "output_type": "stream",
          "name": "stderr",
          "text": [
            "/usr/local/lib/python3.12/dist-packages/sklearn/linear_model/_logistic.py:1256: FutureWarning: 'multi_class' was deprecated in version 1.5 and will be removed in 1.7. Use OneVsRestClassifier(LogisticRegression(..)) instead. Leave it to its default value to avoid this warning.\n",
            "  warnings.warn(\n"
          ]
        }
      ]
    },
    {
      "cell_type": "code",
      "source": [
        "# Question 8: Write a Python program to apply GridSearchCV to tune C and penalty hyperparameters for Logistic Regression and print the best parameters and validation accuracy\n",
        "\n",
        "# Import libraries\n",
        "import pandas as pd\n",
        "from sklearn.model_selection import train_test_split, GridSearchCV\n",
        "from sklearn.linear_model import LogisticRegression\n",
        "from sklearn.datasets import load_iris\n",
        "from sklearn.metrics import accuracy_score\n",
        "\n",
        "# Load dataset\n",
        "data = load_iris()\n",
        "X = pd.DataFrame(data.data, columns=data.feature_names)\n",
        "y = data.target\n",
        "\n",
        "# Train-test split\n",
        "X_train, X_test, y_train, y_test = train_test_split(X, y, test_size=0.2, random_state=42)\n",
        "\n",
        "# Define parameter grid\n",
        "param_grid = {\n",
        "    'C': [0.01, 0.1, 1, 10, 100],       # Regularization strength\n",
        "    'penalty': ['l1', 'l2']             # L1 = Lasso, L2 = Ridge\n",
        "}\n",
        "\n",
        "# Logistic Regression with solver that supports both L1 and L2\n",
        "log_reg = LogisticRegression(solver='liblinear', max_iter=1000)\n",
        "\n",
        "# GridSearchCV\n",
        "grid = GridSearchCV(log_reg, param_grid, cv=5, scoring='accuracy')\n",
        "grid.fit(X_train, y_train)\n",
        "\n",
        "# Best parameters\n",
        "print(\"Best Parameters:\", grid.best_params_)\n",
        "\n",
        "# Validation accuracy (best cross-validation score)\n",
        "print(\"Best Cross-Validation Accuracy:\", grid.best_score_)\n",
        "\n",
        "# Test accuracy on unseen data\n",
        "y_pred = grid.best_estimator_.predict(X_test)\n",
        "print(\"Test Accuracy:\", accuracy_score(y_test, y_pred))"
      ],
      "metadata": {
        "colab": {
          "base_uri": "https://localhost:8080/"
        },
        "id": "TAbchKV7OJLC",
        "outputId": "3c450324-42e8-485f-bb1d-1e4a6da3a34f"
      },
      "execution_count": 5,
      "outputs": [
        {
          "output_type": "stream",
          "name": "stdout",
          "text": [
            "Best Parameters: {'C': 10, 'penalty': 'l1'}\n",
            "Best Cross-Validation Accuracy: 0.9583333333333334\n",
            "Test Accuracy: 1.0\n"
          ]
        }
      ]
    },
    {
      "cell_type": "code",
      "source": [
        "# Question 9: Write a Python program to standardize the features before training Logistic Regression and compare the model's accuracy with and without scaling.\n",
        "# Import libraries\n",
        "import pandas as pd\n",
        "from sklearn.model_selection import train_test_split\n",
        "from sklearn.linear_model import LogisticRegression\n",
        "from sklearn.preprocessing import StandardScaler\n",
        "from sklearn.metrics import accuracy_score\n",
        "from sklearn.datasets import load_iris\n",
        "\n",
        "# Load dataset\n",
        "data = load_iris()\n",
        "X = pd.DataFrame(data.data, columns=data.feature_names)\n",
        "y = data.target\n",
        "\n",
        "# Split dataset\n",
        "X_train, X_test, y_train, y_test = train_test_split(X, y, test_size=0.2, random_state=42)\n",
        "\n",
        "\n",
        "model1 = LogisticRegression(max_iter=1000)\n",
        "model1.fit(X_train, y_train)\n",
        "y_pred1 = model1.predict(X_test)\n",
        "acc_without_scaling = accuracy_score(y_test, y_pred1)\n",
        "\n",
        "\n",
        "scaler = StandardScaler()\n",
        "X_train_scaled = scaler.fit_transform(X_train)\n",
        "X_test_scaled = scaler.transform(X_test)\n",
        "\n",
        "model2 = LogisticRegression(max_iter=1000)\n",
        "model2.fit(X_train_scaled, y_train)\n",
        "y_pred2 = model2.predict(X_test_scaled)\n",
        "acc_with_scaling = accuracy_score(y_test, y_pred2)\n",
        "\n",
        "# Print results\n",
        "print(\"Accuracy without Scaling:\", acc_without_scaling)\n",
        "print(\"Accuracy with Scaling:\", acc_with_scaling)"
      ],
      "metadata": {
        "colab": {
          "base_uri": "https://localhost:8080/"
        },
        "id": "s_URwYFxOa-x",
        "outputId": "80267bd4-72fa-433b-af10-df92b9f6eded"
      },
      "execution_count": 6,
      "outputs": [
        {
          "output_type": "stream",
          "name": "stdout",
          "text": [
            "Accuracy without Scaling: 1.0\n",
            "Accuracy with Scaling: 1.0\n"
          ]
        }
      ]
    },
    {
      "cell_type": "markdown",
      "source": [
        "# Question 10: Imagine you are working at an e-commerce company that wants to predict which customers will respond to a marketing campaign. Given an imbalanced dataset (only 5% of customers respond), describe the approach you'd take to build a Logistic Regression model including data handling, feature scaling, balancing classes, hyperparameter tuning, and evaluating the model for this real-world business use case.\n",
        "Answer:\n",
        "\n",
        "To build a Logistic Regression model for predicting customer responses in an imbalanced dataset, the following approach can be taken:\n",
        "\n",
        "1. Data Handling:\n",
        "\n",
        "Collect and clean customer data (e.g., demographics, past purchases, browsing behavior).\n",
        "\n",
        "Handle missing values, encode categorical variables, and remove irrelevant features.\n",
        "\n",
        "\n",
        "\n",
        "2. Feature Scaling:\n",
        "\n",
        "Apply standardization (z-score scaling) so that all features are on the same scale, ensuring Logistic Regression coefficients are stable and interpretable.\n",
        "\n",
        "\n",
        "\n",
        "3. Balancing Classes:\n",
        "\n",
        "Since only 5% of customers respond, the dataset is highly imbalanced.\n",
        "\n",
        "Use techniques such as SMOTE (Synthetic Minority Oversampling Technique), undersampling, or class weights (penalty='balanced') in Logistic Regression to ensure the model does not always predict the majority class.\n",
        "\n",
        "\n",
        "\n",
        "4. Hyperparameter Tuning:\n",
        "\n",
        "Use GridSearchCV to tune hyperparameters like C (regularization strength) and penalty (L1 or L2).\n",
        "\n",
        "This helps avoid overfitting and improves generalization.\n",
        "\n",
        "\n",
        "\n",
        "5. Model Evaluation:\n",
        "\n",
        "Accuracy is not a good metric in imbalanced data (predicting all customers as \"no\" would give ~95% accuracy).\n",
        "\n",
        "Instead, use metrics such as Precision, Recall, F1-Score, and ROC-AUC to evaluate performance.\n",
        "\n",
        "In this business case, Recall (Sensitivity) is very important (to capture as many potential responders as possible), but Precision is also relevant (to avoid wasting marketing budget on uninterested customers)."
      ],
      "metadata": {
        "id": "rq4DM29jP0Ec"
      }
    },
    {
      "cell_type": "code",
      "source": [],
      "metadata": {
        "id": "7_w3FBQnPRDZ"
      },
      "execution_count": null,
      "outputs": []
    }
  ]
}